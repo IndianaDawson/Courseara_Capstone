{
 "cells": [
  {
   "cell_type": "markdown",
   "metadata": {},
   "source": [
    "# The Chicken Wars\n",
    "## Where Could American Chicken Sandwich Restaurants Thrive in Paris?\n",
    "#### The Business problem is that if restaurants like Popeye's of Chick-fil-A decide to expand in to Paris, where would be the best place for them to set up shop?"
   ]
  },
  {
   "cell_type": "markdown",
   "metadata": {},
   "source": [
    "## Introduction"
   ]
  },
  {
   "cell_type": "markdown",
   "metadata": {},
   "source": [
    "With the reintroduction of the chicken sandwich from Popeye's, the Chicken Wars have official re-emerged with Chick-Fil-A and Popeye's as the main contenders, with other restaurants such as Zaxby's, Wendy's and KFC attempting to gain market share during this event. However, as the world grows more and more connected every day, it is not a question of if, but when will the Chicken Wars become global. With Chick-Fil-A having a solid hold in the US, and Popeye's already having restaurants around the world, the question that will be answered as a part of my Applied Data Science Capstone Specialization (through IBM and Coursera) is: Where Could American Chicken Sandwich Restaurants Thrive in Paris? With Paris being a center of cuisine for the world, it will soon host some of the best Chicken Restaurants as well. In this report, you will find my findings from my analysis based on the knowledge of Applied Data Science I learned from this course. "
   ]
  },
  {
   "cell_type": "markdown",
   "metadata": {},
   "source": [
    "## Data for Analysis"
   ]
  },
  {
   "cell_type": "markdown",
   "metadata": {},
   "source": [
    "To complete this analysis, I used the following data:\n",
    "- Population data from https://www.citypopulation.de/en/france/cityofparis/\n",
    "- Size of each arrondissement from https://en.wikipedia.org/wiki/Arrondissements_of_Paris, \n",
    "- Foursqure API to pull the data on competing restaurants in the areas\n",
    "- Geopy Geocoder to get latitudes and longitudes of cities and arrondissements"
   ]
  },
  {
   "cell_type": "markdown",
   "metadata": {},
   "source": [
    "## Methodology\n",
    "\n",
    "To see the maps https://www.linkedin.com/pulse/chicken-wars-z-indiana-dawson/\n",
    "\n",
    "To see the code https://github.com/IndianaDawson/Courseara_Capstone/blob/master/The%20Chicken%20Wars%20(Code%20-%20Applied%20Data%20Science%20Capstone).ipynb"
   ]
  },
  {
   "cell_type": "markdown",
   "metadata": {},
   "source": [
    "First, I scraped the populations of each arrondissement and placed it in a data frame. For each 20 arondissements, I scraped the data for it's number, nickname, and the population for the years 1975, 1982, 1990, 1999, 2007, and 2016. Then, I added to columns that would analyze from the data frame if the population has increased since 1975 and if it has increased since 1999, and then isolated the arrondissements that increased in both. \n",
    "\n",
    "The reason we want to look at arrondissements with both a long and short term increase in population is because while Paris has a lot of tourist, being a fast food restaurant means that in order to be successful, the area must have the local support, and if the arrondissement is decreasing in population, it will be harder to secure that local support.\n",
    "\n",
    "That left us with 4 arrondissements, and for each one, I searched their longitude and latitude, and added that to the data frame, and used that to map the center of each one on a map of Paris."
   ]
  },
  {
   "cell_type": "markdown",
   "metadata": {},
   "source": [
    "Next, we used the Foursquare API to see which possible competing restaurants would be in the area. The Foursquare API has a lot of categories of restaurants in its database, but these were the ones I believe would most likely compete with a fast food Chicken Sandwich company.\n",
    "- Fried Chicken Joint\n",
    "- Wings Joint\n",
    "- Southern / Soul Food Restaurant\n",
    "- Snack Place\n",
    "- Fast Food Restaurant\n",
    "- American Restaurant\n",
    "\n",
    "Using the API, I was able to get the number of competing restaurants, and their locations, within 1000 meters from the center of each arrondissement, and use that data to plot them on the map of each arrondissement. \n",
    "\n",
    "From this data, we got:\n",
    "- 26 restaurants within the 12th Arrondissement, Reuilly\n",
    "- 47 restaurants within the 13th Arrondissement, Gobelins\n",
    "- 44 restaurants within the 15th Arrondissement, Vaugirard\n",
    "- 37 restaurants within the 19th Arrondissement, Buttes-Chaumont"
   ]
  },
  {
   "cell_type": "markdown",
   "metadata": {},
   "source": [
    "### Results"
   ]
  },
  {
   "cell_type": "markdown",
   "metadata": {},
   "source": [
    "Now that we know how many competing restaurants there are, and where they are, what should we do? For our last part, we will look at the density of these restaurants, and figure out where is best to set up shop. I created a new data frame that, by arrondissement, shows its size (in square kilometers), it's population, number of residents, density of people per square kilometer, and density of restaurants per square kilometer."
   ]
  },
  {
   "cell_type": "markdown",
   "metadata": {},
   "source": [
    "Lastly, in order to help make the best decision of where the new restaurant could be, I created a 'choice factor' which is the population density divided by the restaurant density. This gives us Arrondissements 12 and 15 with the highest choice factor, and Arrondissements 13 and 19 with the lowest. "
   ]
  },
  {
   "cell_type": "markdown",
   "metadata": {},
   "source": [
    "### Discussion"
   ]
  },
  {
   "cell_type": "markdown",
   "metadata": {},
   "source": [
    "Here we have can group the final four arrondissements into two distinct areas, high choice factors or low choice factors. Depending on the sales model for the company, it may do the company better to be in a high choice factor area, with a higher ratio of population density to restaurant density, where being among the competition in a growing area will do well for your business model (I believe this is the route best for a restaurant like Popeye's). A restaurant that would prefer a lower ratio of population density to restaurant density, where being able to be isolated from the competition in a growing area, would look to pick a low choice factor (I believe this is the route best for a restaurant like Chick-Fil-A). "
   ]
  },
  {
   "cell_type": "markdown",
   "metadata": {},
   "source": [
    "### Conclusion"
   ]
  },
  {
   "cell_type": "markdown",
   "metadata": {},
   "source": [
    "Here, fast food restaurants who are looking to win within the Chicken Wars can use this information to decide where to expand in Paris, or use this similar methodology of analysis for other cities. If you have any questions or comments, please leave them below. Additionally, this is not financial or investment advice, but simply my capstone for this Applied Data Science course. "
   ]
  }
 ],
 "metadata": {
  "kernelspec": {
   "display_name": "Python",
   "language": "python",
   "name": "conda-env-python-py"
  },
  "language_info": {
   "codemirror_mode": {
    "name": "ipython",
    "version": 3
   },
   "file_extension": ".py",
   "mimetype": "text/x-python",
   "name": "python",
   "nbconvert_exporter": "python",
   "pygments_lexer": "ipython3",
   "version": "3.6.7"
  }
 },
 "nbformat": 4,
 "nbformat_minor": 4
}
